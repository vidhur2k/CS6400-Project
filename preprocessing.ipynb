{
 "cells": [
  {
   "cell_type": "markdown",
   "metadata": {},
   "source": [
    "## Preprocessing EPL Data from 2013-2019 for Analytics Application"
   ]
  },
  {
   "cell_type": "code",
   "execution_count": 2,
   "metadata": {},
   "outputs": [],
   "source": [
    "import numpy as np\n",
    "import pandas as pd"
   ]
  },
  {
   "cell_type": "code",
   "execution_count": 12,
   "metadata": {},
   "outputs": [],
   "source": [
    "_1314data = pd.read_csv('./data/13-14.csv')\n",
    "_1415data = pd.read_csv('./data/14-15.csv')\n",
    "_1516data = pd.read_csv('./data/15-16.csv')\n",
    "_1617data = pd.read_csv('./data/16-17.csv')\n",
    "_1718data = pd.read_csv('./data/17-18.csv')\n",
    "_1819data = pd.read_csv('./data/18-19.csv')\n",
    "seasons_data = [_1314data, _1415data, _1516data, _1617data, _1718data, _1819data]"
   ]
  },
  {
   "cell_type": "markdown",
   "metadata": {},
   "source": [
    "### Preliminary Tests\n",
    "Before combining, we run some preliminary tests to determine the validity of the data. This includes:\n",
    "1. Ensuring that each season's dataset has 380 games. There are 20 teams and they play each other twice. There are thus $2 \\cdot {20 \\choose 2} = 380$ games.\n",
    "2. Ensuring that each team has played 38 games a season.\n",
    "3. Ensuring that each team has played an equal number (19) of home and away games."
   ]
  },
  {
   "cell_type": "code",
   "execution_count": 13,
   "metadata": {},
   "outputs": [],
   "source": [
    "def test_number_of_games_in_season(df):\n",
    "    \"\"\"\n",
    "    Determines the number of games in a season's dataset.\n",
    "    \"\"\"\n",
    "    if df.shape[0] == 380:\n",
    "        print('Seasons data has the right number of games')\n",
    "    elif df.shape[0] < 380:\n",
    "        print('Seasons data is missing some games')\n",
    "    else:\n",
    "        print('Seasons data has more the necessary games')"
   ]
  },
  {
   "cell_type": "code",
   "execution_count": 14,
   "metadata": {},
   "outputs": [
    {
     "name": "stdout",
     "output_type": "stream",
     "text": [
      "Seasons data has the right number of games\n",
      "Seasons data has more the necessary games\n",
      "Seasons data has the right number of games\n",
      "Seasons data has the right number of games\n",
      "Seasons data has the right number of games\n",
      "Seasons data has the right number of games\n"
     ]
    }
   ],
   "source": [
    "for df in seasons_data:\n",
    "    test_number_of_games_in_season(df)    "
   ]
  },
  {
   "cell_type": "code",
   "execution_count": 15,
   "metadata": {},
   "outputs": [],
   "source": [
    "#2014-15 season has an extra all-NAN row.\n",
    "_1415data.dropna(how='all', inplace=True)"
   ]
  },
  {
   "cell_type": "code",
   "execution_count": 16,
   "metadata": {},
   "outputs": [
    {
     "name": "stdout",
     "output_type": "stream",
     "text": [
      "Seasons data has the right number of games\n",
      "Seasons data has the right number of games\n",
      "Seasons data has the right number of games\n",
      "Seasons data has the right number of games\n",
      "Seasons data has the right number of games\n",
      "Seasons data has the right number of games\n"
     ]
    }
   ],
   "source": [
    "for df in seasons_data:\n",
    "    test_number_of_games_in_season(df)    "
   ]
  },
  {
   "cell_type": "code",
   "execution_count": 17,
   "metadata": {},
   "outputs": [],
   "source": [
    "def check_home_team_games_played(df):\n",
    "    home_team_games = df['HomeTeam'].value_counts()\n",
    "    if len(home_team_games) == 20:\n",
    "        print('All teams have played home games')\n",
    "    for game in home_team_games:\n",
    "        if game < 19:\n",
    "            print('Team has not played enough games')\n",
    "        if game > 19:\n",
    "            print('Team has played more than enough games')"
   ]
  },
  {
   "cell_type": "code",
   "execution_count": 18,
   "metadata": {},
   "outputs": [
    {
     "name": "stdout",
     "output_type": "stream",
     "text": [
      "All teams have played home games\n",
      "All teams have played home games\n",
      "All teams have played home games\n",
      "All teams have played home games\n",
      "All teams have played home games\n",
      "All teams have played home games\n"
     ]
    }
   ],
   "source": [
    "for df in seasons_data:\n",
    "    check_home_team_games_played(df)"
   ]
  },
  {
   "cell_type": "code",
   "execution_count": 19,
   "metadata": {},
   "outputs": [],
   "source": [
    "def check_away_team_games_played(df):\n",
    "    away_team_games = df['AwayTeam'].value_counts()\n",
    "    if len(away_team_games) == 20:\n",
    "        print('All teams have played away games')\n",
    "    for game in away_team_games:\n",
    "        if game < 19:\n",
    "            print('Team has not played enough games')\n",
    "        if game > 19:\n",
    "            print('Team has played more than enough games')"
   ]
  },
  {
   "cell_type": "code",
   "execution_count": 20,
   "metadata": {},
   "outputs": [
    {
     "name": "stdout",
     "output_type": "stream",
     "text": [
      "All teams have played away games\n",
      "All teams have played away games\n",
      "All teams have played away games\n",
      "All teams have played away games\n",
      "All teams have played away games\n",
      "All teams have played away games\n"
     ]
    }
   ],
   "source": [
    "for df in seasons_data:\n",
    "    check_away_team_games_played(df)"
   ]
  },
  {
   "cell_type": "markdown",
   "metadata": {},
   "source": [
    "### Column Name Tests\n",
    "\n",
    "The data was obtained on a season-by-season basis and sometimes came from a different source. Naturally, there might be the following discrepancies:\n",
    "1. Different column names that refer to the same property (e.g. \"HomeTeam\" vs \"hometeam\")\n",
    "2. Columns in one season's dataset not present in another season's dataset.\n",
    "3. Columns that have some data missing."
   ]
  },
  {
   "cell_type": "code",
   "execution_count": 21,
   "metadata": {},
   "outputs": [
    {
     "name": "stdout",
     "output_type": "stream",
     "text": [
      "Index(['Div', 'Date', 'HomeTeam', 'AwayTeam', 'FTHG', 'FTAG', 'FTR', 'HTHG',\n",
      "       'HTAG', 'HTR', 'Referee', 'HS', 'AS', 'HST', 'AST', 'HF', 'AF', 'HC',\n",
      "       'AC', 'HY', 'AY', 'HR', 'AR', 'B365H', 'B365D', 'B365A', 'BWH', 'BWD',\n",
      "       'BWA', 'IWH', 'IWD', 'IWA', 'LBH', 'LBD', 'LBA', 'PSH', 'PSD', 'PSA',\n",
      "       'WHH', 'WHD', 'WHA', 'SJH', 'SJD', 'SJA', 'VCH', 'VCD', 'VCA', 'Bb1X2',\n",
      "       'BbMxH', 'BbAvH', 'BbMxD', 'BbAvD', 'BbMxA', 'BbAvA', 'BbOU',\n",
      "       'BbMx>2.5', 'BbAv>2.5', 'BbMx<2.5', 'BbAv<2.5', 'BbAH', 'BbAHh',\n",
      "       'BbMxAHH', 'BbAvAHH', 'BbMxAHA', 'BbAvAHA'],\n",
      "      dtype='object')\n",
      "Index(['Div', 'Date', 'HomeTeam', 'AwayTeam', 'FTHG', 'FTAG', 'FTR', 'HTHG',\n",
      "       'HTAG', 'HTR', 'Referee', 'HS', 'AS', 'HST', 'AST', 'HF', 'AF', 'HC',\n",
      "       'AC', 'HY', 'AY', 'HR', 'AR', 'B365H', 'B365D', 'B365A', 'BWH', 'BWD',\n",
      "       'BWA', 'IWH', 'IWD', 'IWA', 'LBH', 'LBD', 'LBA', 'PSH', 'PSD', 'PSA',\n",
      "       'WHH', 'WHD', 'WHA', 'SJH', 'SJD', 'SJA', 'VCH', 'VCD', 'VCA', 'Bb1X2',\n",
      "       'BbMxH', 'BbAvH', 'BbMxD', 'BbAvD', 'BbMxA', 'BbAvA', 'BbOU',\n",
      "       'BbMx>2.5', 'BbAv>2.5', 'BbMx<2.5', 'BbAv<2.5', 'BbAH', 'BbAHh',\n",
      "       'BbMxAHH', 'BbAvAHH', 'BbMxAHA', 'BbAvAHA', 'PSCH', 'PSCD', 'PSCA'],\n",
      "      dtype='object')\n",
      "Index(['Date', 'HomeTeam', 'AwayTeam', 'FTHG', 'FTAG', 'FTR', 'HTHG', 'HTAG',\n",
      "       'HTR', 'Referee', 'HS', 'AS', 'HST', 'AST', 'HF', 'AF', 'HC', 'AC',\n",
      "       'HY', 'AY', 'HR', 'AR'],\n",
      "      dtype='object')\n",
      "Index(['Date', 'HomeTeam', 'AwayTeam', 'FTHG', 'FTAG', 'FTR', 'HTHG', 'HTAG',\n",
      "       'HTR', 'Referee', 'HS', 'AS', 'HST', 'AST', 'HF', 'AF', 'HC', 'AC',\n",
      "       'HY', 'AY', 'HR', 'AR'],\n",
      "      dtype='object')\n",
      "Index(['Div', 'Date', 'HomeTeam', 'AwayTeam', 'FTHG', 'FTAG', 'FTR', 'HTHG',\n",
      "       'HTAG', 'HTR', 'Referee', 'HS', 'AS', 'HST', 'AST', 'HF', 'AF', 'HC',\n",
      "       'AC', 'HY', 'AY', 'HR', 'AR'],\n",
      "      dtype='object')\n",
      "Index(['Div', 'Date', 'HomeTeam', 'AwayTeam', 'FTHG', 'FTAG', 'FTR', 'HTHG',\n",
      "       'HTAG', 'HTR', 'Referee', 'HS', 'AS', 'HST', 'AST', 'HF', 'AF', 'HC',\n",
      "       'AC', 'HY', 'AY', 'HR', 'AR'],\n",
      "      dtype='object')\n"
     ]
    }
   ],
   "source": [
    "for df in seasons_data:\n",
    "    print(df.columns)"
   ]
  },
  {
   "cell_type": "markdown",
   "metadata": {},
   "source": [
    "### Initial Observations\n",
    "- 2013-14 and 2014-15 data have some additional data and also have some different column names for some of the same properties.\n",
    "- The data we have that is common between all the season's data are the following:\n",
    "    1. Date \n",
    "    2. HomeTeam\n",
    "    3. AwayTeam\n",
    "    4. FTHG\n",
    "    5. FTAG\n",
    "    6. FTR\n",
    "    7. HTHG\n",
    "    8. HTAG\n",
    "    9. HTR\n",
    "    10. Referee\n",
    "    11. HS\n",
    "    12. AS\n",
    "    13. HST\n",
    "    14. AST\n",
    "    15. HF\n",
    "    16. AF\n",
    "    17. HC\n",
    "    18. AC\n",
    "    19. HY\n",
    "    20. AY\n",
    "    21. HR\n",
    "    22. AR\n",
    "    \n",
    "- Given that we cannot perform analysis on sparse data, we will be exluding the additional data present in the 2013-14 and 2014-15 dataset."
   ]
  },
  {
   "cell_type": "code",
   "execution_count": 22,
   "metadata": {},
   "outputs": [],
   "source": [
    "columns = ['Date', 'HomeTeam', 'AwayTeam', 'FTHG', 'FTAG', 'FTR', 'HTHG',\n",
    "       'HTAG', 'HTR', 'Referee', 'HS', 'AS', 'HST', 'AST', 'HF', 'AF', 'HC',\n",
    "       'AC', 'HY', 'AY', 'HR', 'AR']"
   ]
  },
  {
   "cell_type": "code",
   "execution_count": 23,
   "metadata": {},
   "outputs": [],
   "source": [
    "# Obtaining the necessary subset of data for each season\n",
    "for i in range(len(seasons_data)):\n",
    "    df = seasons_data[i]\n",
    "    seasons_data[i] = df[columns]"
   ]
  },
  {
   "cell_type": "code",
   "execution_count": 24,
   "metadata": {},
   "outputs": [
    {
     "name": "stdout",
     "output_type": "stream",
     "text": [
      "Index(['Date', 'HomeTeam', 'AwayTeam', 'FTHG', 'FTAG', 'FTR', 'HTHG', 'HTAG',\n",
      "       'HTR', 'Referee', 'HS', 'AS', 'HST', 'AST', 'HF', 'AF', 'HC', 'AC',\n",
      "       'HY', 'AY', 'HR', 'AR'],\n",
      "      dtype='object')\n",
      "Index(['Date', 'HomeTeam', 'AwayTeam', 'FTHG', 'FTAG', 'FTR', 'HTHG', 'HTAG',\n",
      "       'HTR', 'Referee', 'HS', 'AS', 'HST', 'AST', 'HF', 'AF', 'HC', 'AC',\n",
      "       'HY', 'AY', 'HR', 'AR'],\n",
      "      dtype='object')\n",
      "Index(['Date', 'HomeTeam', 'AwayTeam', 'FTHG', 'FTAG', 'FTR', 'HTHG', 'HTAG',\n",
      "       'HTR', 'Referee', 'HS', 'AS', 'HST', 'AST', 'HF', 'AF', 'HC', 'AC',\n",
      "       'HY', 'AY', 'HR', 'AR'],\n",
      "      dtype='object')\n",
      "Index(['Date', 'HomeTeam', 'AwayTeam', 'FTHG', 'FTAG', 'FTR', 'HTHG', 'HTAG',\n",
      "       'HTR', 'Referee', 'HS', 'AS', 'HST', 'AST', 'HF', 'AF', 'HC', 'AC',\n",
      "       'HY', 'AY', 'HR', 'AR'],\n",
      "      dtype='object')\n",
      "Index(['Date', 'HomeTeam', 'AwayTeam', 'FTHG', 'FTAG', 'FTR', 'HTHG', 'HTAG',\n",
      "       'HTR', 'Referee', 'HS', 'AS', 'HST', 'AST', 'HF', 'AF', 'HC', 'AC',\n",
      "       'HY', 'AY', 'HR', 'AR'],\n",
      "      dtype='object')\n",
      "Index(['Date', 'HomeTeam', 'AwayTeam', 'FTHG', 'FTAG', 'FTR', 'HTHG', 'HTAG',\n",
      "       'HTR', 'Referee', 'HS', 'AS', 'HST', 'AST', 'HF', 'AF', 'HC', 'AC',\n",
      "       'HY', 'AY', 'HR', 'AR'],\n",
      "      dtype='object')\n"
     ]
    }
   ],
   "source": [
    "for df in seasons_data:\n",
    "    print(df.columns)"
   ]
  },
  {
   "cell_type": "markdown",
   "metadata": {},
   "source": [
    "### Checking for null values\n",
    "This is just a routine check to ensure we don't push any bad data into the databases."
   ]
  },
  {
   "cell_type": "code",
   "execution_count": 25,
   "metadata": {},
   "outputs": [
    {
     "name": "stdout",
     "output_type": "stream",
     "text": [
      "Date        0\n",
      "HomeTeam    0\n",
      "AwayTeam    0\n",
      "FTHG        0\n",
      "FTAG        0\n",
      "FTR         0\n",
      "HTHG        0\n",
      "HTAG        0\n",
      "HTR         0\n",
      "Referee     0\n",
      "HS          0\n",
      "AS          0\n",
      "HST         0\n",
      "AST         0\n",
      "HF          0\n",
      "AF          0\n",
      "HC          0\n",
      "AC          0\n",
      "HY          0\n",
      "AY          0\n",
      "HR          0\n",
      "AR          0\n",
      "dtype: int64\n",
      "Date        0\n",
      "HomeTeam    0\n",
      "AwayTeam    0\n",
      "FTHG        0\n",
      "FTAG        0\n",
      "FTR         0\n",
      "HTHG        0\n",
      "HTAG        0\n",
      "HTR         0\n",
      "Referee     0\n",
      "HS          0\n",
      "AS          0\n",
      "HST         0\n",
      "AST         0\n",
      "HF          0\n",
      "AF          0\n",
      "HC          0\n",
      "AC          0\n",
      "HY          0\n",
      "AY          0\n",
      "HR          0\n",
      "AR          0\n",
      "dtype: int64\n",
      "Date        0\n",
      "HomeTeam    0\n",
      "AwayTeam    0\n",
      "FTHG        0\n",
      "FTAG        0\n",
      "FTR         0\n",
      "HTHG        0\n",
      "HTAG        0\n",
      "HTR         0\n",
      "Referee     0\n",
      "HS          0\n",
      "AS          0\n",
      "HST         0\n",
      "AST         0\n",
      "HF          0\n",
      "AF          0\n",
      "HC          0\n",
      "AC          0\n",
      "HY          0\n",
      "AY          0\n",
      "HR          0\n",
      "AR          0\n",
      "dtype: int64\n",
      "Date        0\n",
      "HomeTeam    0\n",
      "AwayTeam    0\n",
      "FTHG        0\n",
      "FTAG        0\n",
      "FTR         0\n",
      "HTHG        0\n",
      "HTAG        0\n",
      "HTR         0\n",
      "Referee     0\n",
      "HS          0\n",
      "AS          0\n",
      "HST         0\n",
      "AST         0\n",
      "HF          0\n",
      "AF          0\n",
      "HC          0\n",
      "AC          0\n",
      "HY          0\n",
      "AY          0\n",
      "HR          0\n",
      "AR          0\n",
      "dtype: int64\n",
      "Date        0\n",
      "HomeTeam    0\n",
      "AwayTeam    0\n",
      "FTHG        0\n",
      "FTAG        0\n",
      "FTR         0\n",
      "HTHG        0\n",
      "HTAG        0\n",
      "HTR         0\n",
      "Referee     0\n",
      "HS          0\n",
      "AS          0\n",
      "HST         0\n",
      "AST         0\n",
      "HF          0\n",
      "AF          0\n",
      "HC          0\n",
      "AC          0\n",
      "HY          0\n",
      "AY          0\n",
      "HR          0\n",
      "AR          0\n",
      "dtype: int64\n",
      "Date        0\n",
      "HomeTeam    0\n",
      "AwayTeam    0\n",
      "FTHG        0\n",
      "FTAG        0\n",
      "FTR         0\n",
      "HTHG        0\n",
      "HTAG        0\n",
      "HTR         0\n",
      "Referee     0\n",
      "HS          0\n",
      "AS          0\n",
      "HST         0\n",
      "AST         0\n",
      "HF          0\n",
      "AF          0\n",
      "HC          0\n",
      "AC          0\n",
      "HY          0\n",
      "AY          0\n",
      "HR          0\n",
      "AR          0\n",
      "dtype: int64\n"
     ]
    }
   ],
   "source": [
    "for df in seasons_data:\n",
    "    print(df.isnull().sum())"
   ]
  },
  {
   "cell_type": "markdown",
   "metadata": {},
   "source": [
    "### Joining the Seasons data to form the final dataset\n",
    "- We have the necessary columns for the application. Joining it is a simple matter of joining dataframes.\n",
    "- Before joining the dataframes, we add an additional column to each of them named 'Season' and add the relevant years for the season. For example, any games played during the 2013-14 season will have a value of '2013-14' under the 'Season' tag."
   ]
  },
  {
   "cell_type": "code",
   "execution_count": 26,
   "metadata": {},
   "outputs": [],
   "source": [
    "seasons = ['2013-14', '2014-15', '2015-16', '2016-17', '2017-18', '2018-19']\n",
    "SEASON_COLUMN_NAME = 'Season'"
   ]
  },
  {
   "cell_type": "code",
   "execution_count": 27,
   "metadata": {},
   "outputs": [
    {
     "name": "stderr",
     "output_type": "stream",
     "text": [
      "/Users/vidhur2k/anaconda3/lib/python3.7/site-packages/ipykernel_launcher.py:3: SettingWithCopyWarning: \n",
      "A value is trying to be set on a copy of a slice from a DataFrame.\n",
      "Try using .loc[row_indexer,col_indexer] = value instead\n",
      "\n",
      "See the caveats in the documentation: http://pandas.pydata.org/pandas-docs/stable/user_guide/indexing.html#returning-a-view-versus-a-copy\n",
      "  This is separate from the ipykernel package so we can avoid doing imports until\n"
     ]
    }
   ],
   "source": [
    "for i in range(len(seasons_data)):\n",
    "    df = seasons_data[i]\n",
    "    df[SEASON_COLUMN_NAME] = seasons[i]\n",
    "    seasons_data[i] = df"
   ]
  },
  {
   "cell_type": "code",
   "execution_count": 28,
   "metadata": {},
   "outputs": [],
   "source": [
    "for df in seasons_data:\n",
    "    assert df[SEASON_COLUMN_NAME] is not None"
   ]
  },
  {
   "cell_type": "code",
   "execution_count": 29,
   "metadata": {},
   "outputs": [],
   "source": [
    "dataset = pd.DataFrame([])"
   ]
  },
  {
   "cell_type": "code",
   "execution_count": 30,
   "metadata": {},
   "outputs": [],
   "source": [
    "for df in seasons_data:\n",
    "    dataset = pd.concat([dataset, df], ignore_index=True)"
   ]
  },
  {
   "cell_type": "code",
   "execution_count": 31,
   "metadata": {},
   "outputs": [
    {
     "data": {
      "text/html": [
       "<div>\n",
       "<style scoped>\n",
       "    .dataframe tbody tr th:only-of-type {\n",
       "        vertical-align: middle;\n",
       "    }\n",
       "\n",
       "    .dataframe tbody tr th {\n",
       "        vertical-align: top;\n",
       "    }\n",
       "\n",
       "    .dataframe thead th {\n",
       "        text-align: right;\n",
       "    }\n",
       "</style>\n",
       "<table border=\"1\" class=\"dataframe\">\n",
       "  <thead>\n",
       "    <tr style=\"text-align: right;\">\n",
       "      <th></th>\n",
       "      <th>Date</th>\n",
       "      <th>HomeTeam</th>\n",
       "      <th>AwayTeam</th>\n",
       "      <th>FTHG</th>\n",
       "      <th>FTAG</th>\n",
       "      <th>FTR</th>\n",
       "      <th>HTHG</th>\n",
       "      <th>HTAG</th>\n",
       "      <th>HTR</th>\n",
       "      <th>Referee</th>\n",
       "      <th>...</th>\n",
       "      <th>AST</th>\n",
       "      <th>HF</th>\n",
       "      <th>AF</th>\n",
       "      <th>HC</th>\n",
       "      <th>AC</th>\n",
       "      <th>HY</th>\n",
       "      <th>AY</th>\n",
       "      <th>HR</th>\n",
       "      <th>AR</th>\n",
       "      <th>Season</th>\n",
       "    </tr>\n",
       "  </thead>\n",
       "  <tbody>\n",
       "    <tr>\n",
       "      <th>0</th>\n",
       "      <td>17/08/13</td>\n",
       "      <td>Arsenal</td>\n",
       "      <td>Aston Villa</td>\n",
       "      <td>1.0</td>\n",
       "      <td>3.0</td>\n",
       "      <td>A</td>\n",
       "      <td>1.0</td>\n",
       "      <td>1.0</td>\n",
       "      <td>D</td>\n",
       "      <td>A Taylor</td>\n",
       "      <td>...</td>\n",
       "      <td>4.0</td>\n",
       "      <td>15.0</td>\n",
       "      <td>18.0</td>\n",
       "      <td>4.0</td>\n",
       "      <td>3.0</td>\n",
       "      <td>4.0</td>\n",
       "      <td>5.0</td>\n",
       "      <td>1.0</td>\n",
       "      <td>0.0</td>\n",
       "      <td>2013-14</td>\n",
       "    </tr>\n",
       "    <tr>\n",
       "      <th>1</th>\n",
       "      <td>17/08/13</td>\n",
       "      <td>Liverpool</td>\n",
       "      <td>Stoke</td>\n",
       "      <td>1.0</td>\n",
       "      <td>0.0</td>\n",
       "      <td>H</td>\n",
       "      <td>1.0</td>\n",
       "      <td>0.0</td>\n",
       "      <td>H</td>\n",
       "      <td>M Atkinson</td>\n",
       "      <td>...</td>\n",
       "      <td>4.0</td>\n",
       "      <td>11.0</td>\n",
       "      <td>11.0</td>\n",
       "      <td>12.0</td>\n",
       "      <td>6.0</td>\n",
       "      <td>1.0</td>\n",
       "      <td>1.0</td>\n",
       "      <td>0.0</td>\n",
       "      <td>0.0</td>\n",
       "      <td>2013-14</td>\n",
       "    </tr>\n",
       "    <tr>\n",
       "      <th>2</th>\n",
       "      <td>17/08/13</td>\n",
       "      <td>Norwich</td>\n",
       "      <td>Everton</td>\n",
       "      <td>2.0</td>\n",
       "      <td>2.0</td>\n",
       "      <td>D</td>\n",
       "      <td>0.0</td>\n",
       "      <td>0.0</td>\n",
       "      <td>D</td>\n",
       "      <td>M Oliver</td>\n",
       "      <td>...</td>\n",
       "      <td>6.0</td>\n",
       "      <td>13.0</td>\n",
       "      <td>10.0</td>\n",
       "      <td>6.0</td>\n",
       "      <td>8.0</td>\n",
       "      <td>2.0</td>\n",
       "      <td>0.0</td>\n",
       "      <td>0.0</td>\n",
       "      <td>0.0</td>\n",
       "      <td>2013-14</td>\n",
       "    </tr>\n",
       "    <tr>\n",
       "      <th>3</th>\n",
       "      <td>17/08/13</td>\n",
       "      <td>Sunderland</td>\n",
       "      <td>Fulham</td>\n",
       "      <td>0.0</td>\n",
       "      <td>1.0</td>\n",
       "      <td>A</td>\n",
       "      <td>0.0</td>\n",
       "      <td>0.0</td>\n",
       "      <td>D</td>\n",
       "      <td>N Swarbrick</td>\n",
       "      <td>...</td>\n",
       "      <td>1.0</td>\n",
       "      <td>14.0</td>\n",
       "      <td>14.0</td>\n",
       "      <td>6.0</td>\n",
       "      <td>1.0</td>\n",
       "      <td>0.0</td>\n",
       "      <td>3.0</td>\n",
       "      <td>0.0</td>\n",
       "      <td>0.0</td>\n",
       "      <td>2013-14</td>\n",
       "    </tr>\n",
       "    <tr>\n",
       "      <th>4</th>\n",
       "      <td>17/08/13</td>\n",
       "      <td>Swansea</td>\n",
       "      <td>Man United</td>\n",
       "      <td>1.0</td>\n",
       "      <td>4.0</td>\n",
       "      <td>A</td>\n",
       "      <td>0.0</td>\n",
       "      <td>2.0</td>\n",
       "      <td>A</td>\n",
       "      <td>P Dowd</td>\n",
       "      <td>...</td>\n",
       "      <td>7.0</td>\n",
       "      <td>13.0</td>\n",
       "      <td>10.0</td>\n",
       "      <td>7.0</td>\n",
       "      <td>4.0</td>\n",
       "      <td>1.0</td>\n",
       "      <td>3.0</td>\n",
       "      <td>0.0</td>\n",
       "      <td>0.0</td>\n",
       "      <td>2013-14</td>\n",
       "    </tr>\n",
       "    <tr>\n",
       "      <th>...</th>\n",
       "      <td>...</td>\n",
       "      <td>...</td>\n",
       "      <td>...</td>\n",
       "      <td>...</td>\n",
       "      <td>...</td>\n",
       "      <td>...</td>\n",
       "      <td>...</td>\n",
       "      <td>...</td>\n",
       "      <td>...</td>\n",
       "      <td>...</td>\n",
       "      <td>...</td>\n",
       "      <td>...</td>\n",
       "      <td>...</td>\n",
       "      <td>...</td>\n",
       "      <td>...</td>\n",
       "      <td>...</td>\n",
       "      <td>...</td>\n",
       "      <td>...</td>\n",
       "      <td>...</td>\n",
       "      <td>...</td>\n",
       "      <td>...</td>\n",
       "    </tr>\n",
       "    <tr>\n",
       "      <th>2275</th>\n",
       "      <td>12/5/19</td>\n",
       "      <td>Liverpool</td>\n",
       "      <td>Wolves</td>\n",
       "      <td>2.0</td>\n",
       "      <td>0.0</td>\n",
       "      <td>H</td>\n",
       "      <td>1.0</td>\n",
       "      <td>0.0</td>\n",
       "      <td>H</td>\n",
       "      <td>M Atkinson</td>\n",
       "      <td>...</td>\n",
       "      <td>2.0</td>\n",
       "      <td>3.0</td>\n",
       "      <td>11.0</td>\n",
       "      <td>4.0</td>\n",
       "      <td>1.0</td>\n",
       "      <td>0.0</td>\n",
       "      <td>2.0</td>\n",
       "      <td>0.0</td>\n",
       "      <td>0.0</td>\n",
       "      <td>2018-19</td>\n",
       "    </tr>\n",
       "    <tr>\n",
       "      <th>2276</th>\n",
       "      <td>12/5/19</td>\n",
       "      <td>Man United</td>\n",
       "      <td>Cardiff</td>\n",
       "      <td>0.0</td>\n",
       "      <td>2.0</td>\n",
       "      <td>A</td>\n",
       "      <td>0.0</td>\n",
       "      <td>1.0</td>\n",
       "      <td>A</td>\n",
       "      <td>J Moss</td>\n",
       "      <td>...</td>\n",
       "      <td>4.0</td>\n",
       "      <td>9.0</td>\n",
       "      <td>6.0</td>\n",
       "      <td>11.0</td>\n",
       "      <td>2.0</td>\n",
       "      <td>3.0</td>\n",
       "      <td>3.0</td>\n",
       "      <td>0.0</td>\n",
       "      <td>0.0</td>\n",
       "      <td>2018-19</td>\n",
       "    </tr>\n",
       "    <tr>\n",
       "      <th>2277</th>\n",
       "      <td>12/5/19</td>\n",
       "      <td>Southampton</td>\n",
       "      <td>Huddersfield</td>\n",
       "      <td>1.0</td>\n",
       "      <td>1.0</td>\n",
       "      <td>D</td>\n",
       "      <td>1.0</td>\n",
       "      <td>0.0</td>\n",
       "      <td>H</td>\n",
       "      <td>L Probert</td>\n",
       "      <td>...</td>\n",
       "      <td>3.0</td>\n",
       "      <td>8.0</td>\n",
       "      <td>6.0</td>\n",
       "      <td>4.0</td>\n",
       "      <td>3.0</td>\n",
       "      <td>0.0</td>\n",
       "      <td>1.0</td>\n",
       "      <td>0.0</td>\n",
       "      <td>0.0</td>\n",
       "      <td>2018-19</td>\n",
       "    </tr>\n",
       "    <tr>\n",
       "      <th>2278</th>\n",
       "      <td>12/5/19</td>\n",
       "      <td>Tottenham</td>\n",
       "      <td>Everton</td>\n",
       "      <td>2.0</td>\n",
       "      <td>2.0</td>\n",
       "      <td>D</td>\n",
       "      <td>1.0</td>\n",
       "      <td>0.0</td>\n",
       "      <td>H</td>\n",
       "      <td>A Marriner</td>\n",
       "      <td>...</td>\n",
       "      <td>9.0</td>\n",
       "      <td>10.0</td>\n",
       "      <td>13.0</td>\n",
       "      <td>7.0</td>\n",
       "      <td>4.0</td>\n",
       "      <td>0.0</td>\n",
       "      <td>2.0</td>\n",
       "      <td>0.0</td>\n",
       "      <td>0.0</td>\n",
       "      <td>2018-19</td>\n",
       "    </tr>\n",
       "    <tr>\n",
       "      <th>2279</th>\n",
       "      <td>12/5/19</td>\n",
       "      <td>Watford</td>\n",
       "      <td>West Ham</td>\n",
       "      <td>1.0</td>\n",
       "      <td>4.0</td>\n",
       "      <td>A</td>\n",
       "      <td>0.0</td>\n",
       "      <td>2.0</td>\n",
       "      <td>A</td>\n",
       "      <td>C Kavanagh</td>\n",
       "      <td>...</td>\n",
       "      <td>9.0</td>\n",
       "      <td>10.0</td>\n",
       "      <td>10.0</td>\n",
       "      <td>7.0</td>\n",
       "      <td>2.0</td>\n",
       "      <td>1.0</td>\n",
       "      <td>0.0</td>\n",
       "      <td>1.0</td>\n",
       "      <td>0.0</td>\n",
       "      <td>2018-19</td>\n",
       "    </tr>\n",
       "  </tbody>\n",
       "</table>\n",
       "<p>2280 rows × 23 columns</p>\n",
       "</div>"
      ],
      "text/plain": [
       "          Date     HomeTeam      AwayTeam  FTHG  FTAG FTR  HTHG  HTAG HTR  \\\n",
       "0     17/08/13      Arsenal   Aston Villa   1.0   3.0   A   1.0   1.0   D   \n",
       "1     17/08/13    Liverpool         Stoke   1.0   0.0   H   1.0   0.0   H   \n",
       "2     17/08/13      Norwich       Everton   2.0   2.0   D   0.0   0.0   D   \n",
       "3     17/08/13   Sunderland        Fulham   0.0   1.0   A   0.0   0.0   D   \n",
       "4     17/08/13      Swansea    Man United   1.0   4.0   A   0.0   2.0   A   \n",
       "...        ...          ...           ...   ...   ...  ..   ...   ...  ..   \n",
       "2275   12/5/19    Liverpool        Wolves   2.0   0.0   H   1.0   0.0   H   \n",
       "2276   12/5/19   Man United       Cardiff   0.0   2.0   A   0.0   1.0   A   \n",
       "2277   12/5/19  Southampton  Huddersfield   1.0   1.0   D   1.0   0.0   H   \n",
       "2278   12/5/19    Tottenham       Everton   2.0   2.0   D   1.0   0.0   H   \n",
       "2279   12/5/19      Watford      West Ham   1.0   4.0   A   0.0   2.0   A   \n",
       "\n",
       "          Referee  ...  AST    HF    AF    HC   AC   HY   AY   HR   AR  \\\n",
       "0        A Taylor  ...  4.0  15.0  18.0   4.0  3.0  4.0  5.0  1.0  0.0   \n",
       "1      M Atkinson  ...  4.0  11.0  11.0  12.0  6.0  1.0  1.0  0.0  0.0   \n",
       "2        M Oliver  ...  6.0  13.0  10.0   6.0  8.0  2.0  0.0  0.0  0.0   \n",
       "3     N Swarbrick  ...  1.0  14.0  14.0   6.0  1.0  0.0  3.0  0.0  0.0   \n",
       "4          P Dowd  ...  7.0  13.0  10.0   7.0  4.0  1.0  3.0  0.0  0.0   \n",
       "...           ...  ...  ...   ...   ...   ...  ...  ...  ...  ...  ...   \n",
       "2275   M Atkinson  ...  2.0   3.0  11.0   4.0  1.0  0.0  2.0  0.0  0.0   \n",
       "2276       J Moss  ...  4.0   9.0   6.0  11.0  2.0  3.0  3.0  0.0  0.0   \n",
       "2277    L Probert  ...  3.0   8.0   6.0   4.0  3.0  0.0  1.0  0.0  0.0   \n",
       "2278   A Marriner  ...  9.0  10.0  13.0   7.0  4.0  0.0  2.0  0.0  0.0   \n",
       "2279   C Kavanagh  ...  9.0  10.0  10.0   7.0  2.0  1.0  0.0  1.0  0.0   \n",
       "\n",
       "       Season  \n",
       "0     2013-14  \n",
       "1     2013-14  \n",
       "2     2013-14  \n",
       "3     2013-14  \n",
       "4     2013-14  \n",
       "...       ...  \n",
       "2275  2018-19  \n",
       "2276  2018-19  \n",
       "2277  2018-19  \n",
       "2278  2018-19  \n",
       "2279  2018-19  \n",
       "\n",
       "[2280 rows x 23 columns]"
      ]
     },
     "execution_count": 31,
     "metadata": {},
     "output_type": "execute_result"
    }
   ],
   "source": [
    "dataset"
   ]
  },
  {
   "cell_type": "markdown",
   "metadata": {},
   "source": [
    "### Final Tests\n",
    "Now that we have the final dataset, we just need to do some final checks before exporting to CSV:\n",
    "1. Ensure that there are $380x6 = 2280$ (6 seasons) rows in the data.\n",
    "2. Ensure that the number of columns are the same as the number of columns common to all the seasons data.\n",
    "3. Ensure that we do not have any null values"
   ]
  },
  {
   "cell_type": "code",
   "execution_count": 32,
   "metadata": {},
   "outputs": [],
   "source": [
    "def perform_final_dataset_assertions(df):\n",
    "    assert df.shape[0] == 2280\n",
    "    assert df.shape[1] == len(columns) + 1 # + 1 for the 'Seasons' column\n",
    "    assert sum(df.isnull().sum()) == 0"
   ]
  },
  {
   "cell_type": "code",
   "execution_count": 33,
   "metadata": {},
   "outputs": [],
   "source": [
    "perform_final_dataset_assertions(dataset)"
   ]
  },
  {
   "cell_type": "markdown",
   "metadata": {},
   "source": [
    "### Different CSVs for Each Entity"
   ]
  },
  {
   "cell_type": "code",
   "execution_count": 24,
   "metadata": {},
   "outputs": [],
   "source": [
    "# Referee\n",
    "referees_df = dataset[['Referee']]"
   ]
  },
  {
   "cell_type": "code",
   "execution_count": 30,
   "metadata": {},
   "outputs": [
    {
     "data": {
      "text/html": [
       "<div>\n",
       "<style scoped>\n",
       "    .dataframe tbody tr th:only-of-type {\n",
       "        vertical-align: middle;\n",
       "    }\n",
       "\n",
       "    .dataframe tbody tr th {\n",
       "        vertical-align: top;\n",
       "    }\n",
       "\n",
       "    .dataframe thead th {\n",
       "        text-align: right;\n",
       "    }\n",
       "</style>\n",
       "<table border=\"1\" class=\"dataframe\">\n",
       "  <thead>\n",
       "    <tr style=\"text-align: right;\">\n",
       "      <th></th>\n",
       "      <th>Referee</th>\n",
       "    </tr>\n",
       "  </thead>\n",
       "  <tbody>\n",
       "    <tr>\n",
       "      <th>0</th>\n",
       "      <td>A Taylor</td>\n",
       "    </tr>\n",
       "    <tr>\n",
       "      <th>1</th>\n",
       "      <td>M Atkinson</td>\n",
       "    </tr>\n",
       "    <tr>\n",
       "      <th>2</th>\n",
       "      <td>M Oliver</td>\n",
       "    </tr>\n",
       "    <tr>\n",
       "      <th>3</th>\n",
       "      <td>N Swarbrick</td>\n",
       "    </tr>\n",
       "    <tr>\n",
       "      <th>4</th>\n",
       "      <td>P Dowd</td>\n",
       "    </tr>\n",
       "    <tr>\n",
       "      <th>5</th>\n",
       "      <td>K Friend</td>\n",
       "    </tr>\n",
       "    <tr>\n",
       "      <th>6</th>\n",
       "      <td>H Webb</td>\n",
       "    </tr>\n",
       "    <tr>\n",
       "      <th>7</th>\n",
       "      <td>J Moss</td>\n",
       "    </tr>\n",
       "    <tr>\n",
       "      <th>8</th>\n",
       "      <td>M Clattenburg</td>\n",
       "    </tr>\n",
       "    <tr>\n",
       "      <th>9</th>\n",
       "      <td>A Marriner</td>\n",
       "    </tr>\n",
       "    <tr>\n",
       "      <th>12</th>\n",
       "      <td>R East</td>\n",
       "    </tr>\n",
       "    <tr>\n",
       "      <th>14</th>\n",
       "      <td>M Jones</td>\n",
       "    </tr>\n",
       "    <tr>\n",
       "      <th>16</th>\n",
       "      <td>L Mason</td>\n",
       "    </tr>\n",
       "    <tr>\n",
       "      <th>18</th>\n",
       "      <td>L Probert</td>\n",
       "    </tr>\n",
       "    <tr>\n",
       "      <th>24</th>\n",
       "      <td>C Foy</td>\n",
       "    </tr>\n",
       "    <tr>\n",
       "      <th>29</th>\n",
       "      <td>M Dean</td>\n",
       "    </tr>\n",
       "    <tr>\n",
       "      <th>33</th>\n",
       "      <td>R Madley</td>\n",
       "    </tr>\n",
       "    <tr>\n",
       "      <th>51</th>\n",
       "      <td>C Pawson</td>\n",
       "    </tr>\n",
       "    <tr>\n",
       "      <th>405</th>\n",
       "      <td>P Tierney</td>\n",
       "    </tr>\n",
       "    <tr>\n",
       "      <th>432</th>\n",
       "      <td>K Stroud</td>\n",
       "    </tr>\n",
       "    <tr>\n",
       "      <th>474</th>\n",
       "      <td>S Attwell</td>\n",
       "    </tr>\n",
       "    <tr>\n",
       "      <th>500</th>\n",
       "      <td>G Scott</td>\n",
       "    </tr>\n",
       "    <tr>\n",
       "      <th>765</th>\n",
       "      <td>S Hooper</td>\n",
       "    </tr>\n",
       "    <tr>\n",
       "      <th>1448</th>\n",
       "      <td>C Kavanagh</td>\n",
       "    </tr>\n",
       "    <tr>\n",
       "      <th>1514</th>\n",
       "      <td>l Mason</td>\n",
       "    </tr>\n",
       "    <tr>\n",
       "      <th>1868</th>\n",
       "      <td>D Coote</td>\n",
       "    </tr>\n",
       "    <tr>\n",
       "      <th>2065</th>\n",
       "      <td>A Madley</td>\n",
       "    </tr>\n",
       "  </tbody>\n",
       "</table>\n",
       "</div>"
      ],
      "text/plain": [
       "            Referee\n",
       "0          A Taylor\n",
       "1        M Atkinson\n",
       "2          M Oliver\n",
       "3       N Swarbrick\n",
       "4            P Dowd\n",
       "5          K Friend\n",
       "6            H Webb\n",
       "7            J Moss\n",
       "8     M Clattenburg\n",
       "9        A Marriner\n",
       "12           R East\n",
       "14          M Jones\n",
       "16          L Mason\n",
       "18        L Probert\n",
       "24            C Foy\n",
       "29           M Dean\n",
       "33         R Madley\n",
       "51         C Pawson\n",
       "405       P Tierney\n",
       "432        K Stroud\n",
       "474       S Attwell\n",
       "500         G Scott\n",
       "765        S Hooper\n",
       "1448     C Kavanagh\n",
       "1514        l Mason\n",
       "1868        D Coote\n",
       "2065       A Madley"
      ]
     },
     "execution_count": 30,
     "metadata": {},
     "output_type": "execute_result"
    }
   ],
   "source": [
    "referees_df = referees_df.drop_duplicates()\n",
    "referees_df"
   ]
  },
  {
   "cell_type": "code",
   "execution_count": 28,
   "metadata": {},
   "outputs": [],
   "source": [
    "referees_df.to_csv('./data/referees.csv', index=False)"
   ]
  },
  {
   "cell_type": "code",
   "execution_count": 31,
   "metadata": {},
   "outputs": [],
   "source": [
    "# Team\n",
    "teams_df = dataset[['HomeTeam']]\n",
    "teams_df = teams_df.drop_duplicates()"
   ]
  },
  {
   "cell_type": "code",
   "execution_count": 90,
   "metadata": {},
   "outputs": [
    {
     "data": {
      "text/plain": [
       "['Arsenal',\n",
       " 'Liverpool',\n",
       " 'Norwich',\n",
       " 'Sunderland',\n",
       " 'Swansea',\n",
       " 'West Brom',\n",
       " 'West Ham',\n",
       " 'Chelsea',\n",
       " 'Crystal Palace',\n",
       " 'Man City',\n",
       " 'Aston Villa',\n",
       " 'Everton',\n",
       " 'Fulham',\n",
       " 'Hull',\n",
       " 'Newcastle',\n",
       " 'Southampton',\n",
       " 'Stoke',\n",
       " 'Cardiff',\n",
       " 'Tottenham',\n",
       " 'Man United',\n",
       " 'Leicester',\n",
       " 'QPR',\n",
       " 'Burnley',\n",
       " 'Bournemouth',\n",
       " 'Watford',\n",
       " 'Middlesbrough',\n",
       " 'Brighton',\n",
       " 'Huddersfield',\n",
       " 'Wolves']"
      ]
     },
     "execution_count": 90,
     "metadata": {},
     "output_type": "execute_result"
    }
   ],
   "source": [
    "list(teams_df['HomeTeam'])"
   ]
  },
  {
   "cell_type": "code",
   "execution_count": 35,
   "metadata": {},
   "outputs": [],
   "source": [
    "teams_df.to_csv('./data/teams.csv', index=False)"
   ]
  },
  {
   "cell_type": "markdown",
   "metadata": {},
   "source": [
    "## Making the Game Entity"
   ]
  },
  {
   "cell_type": "code",
   "execution_count": 44,
   "metadata": {},
   "outputs": [],
   "source": [
    "def parse_id(df):\n",
    "    df['_id'] = df['_id'].apply(lambda x: x[9:-1])\n",
    "    return df"
   ]
  },
  {
   "cell_type": "code",
   "execution_count": 9,
   "metadata": {},
   "outputs": [],
   "source": [
    "def make_dict(df):\n",
    "    out = {}\n",
    "    for _, row in df.iterrows():\n",
    "        out[row['Name']] = row['_id']\n",
    "    return out\n",
    "def make_postgres_dict(df):\n",
    "    out = {}\n",
    "    for _, row in df.iterrows():\n",
    "        out[row['name']] = row['id']\n",
    "    return out"
   ]
  },
  {
   "cell_type": "code",
   "execution_count": 82,
   "metadata": {},
   "outputs": [
    {
     "data": {
      "text/plain": [
       "dict_items([('Atkinson', '5fc451059280f04a4cad63c7'), ('Taylor', '5fc451059280f04a4cad63c8'), ('Swarbrick', '5fc451059280f04a4cad63c9'), ('Jones', '5fc451059280f04a4cad63ca'), ('Webb', '5fc451059280f04a4cad63cb'), ('Oliver', '5fc451059280f04a4cad63cc'), ('Probert', '5fc451059280f04a4cad63cd'), ('Mason', '5fc451059280f04a4cad63dd'), ('Friend', '5fc451059280f04a4cad63cf'), ('Moss', '5fc451059280f04a4cad63d0'), ('Pawson', '5fc451059280f04a4cad63d1'), ('Madley', '5fc451059280f04a4cad63e1'), ('East', '5fc451059280f04a4cad63d3'), ('Clattenburg', '5fc451059280f04a4cad63d4'), ('Dowd', '5fc451059280f04a4cad63d5'), ('Tierney', '5fc451059280f04a4cad63d6'), ('Foy', '5fc451059280f04a4cad63d7'), ('Marriner', '5fc451059280f04a4cad63d8'), ('Stroud', '5fc451059280f04a4cad63d9'), ('Dean', '5fc451059280f04a4cad63da'), ('Hooper', '5fc451059280f04a4cad63db'), ('Attwell', '5fc451059280f04a4cad63dc'), ('Scott', '5fc451059280f04a4cad63de'), ('Kavanagh', '5fc451059280f04a4cad63df'), ('Coote', '5fc451059280f04a4cad63e0')])"
      ]
     },
     "execution_count": 82,
     "metadata": {},
     "output_type": "execute_result"
    }
   ],
   "source": [
    "m_referees = pd.read_csv('./data/mongo/referees.csv')\n",
    "parse_id(m_referees)\n",
    "referees_dict = make_dict(m_referees)\n",
    "referees_dict.items()"
   ]
  },
  {
   "cell_type": "code",
   "execution_count": 83,
   "metadata": {},
   "outputs": [
    {
     "data": {
      "text/plain": [
       "dict_items([('West Brom', '5fc4529d9280f04a4cadda35'), ('Everton', '5fc4529d9280f04a4cadda36'), ('Fulham', '5fc4529d9280f04a4cadda37'), ('West Ham', '5fc4529d9280f04a4cadda38'), ('Hull', '5fc4529d9280f04a4cadda39'), ('Newcastle', '5fc4529d9280f04a4cadda3a'), ('Southampton', '5fc4529d9280f04a4cadda3b'), ('Stoke', '5fc4529d9280f04a4cadda3c'), ('Arsenal', '5fc4529d9280f04a4cadda3d'), ('Cardiff', '5fc4529d9280f04a4cadda3e'), ('Man City', '5fc4529d9280f04a4cadda3f'), ('Norwich', '5fc4529d9280f04a4cadda40'), ('Man United', '5fc4529d9280f04a4cadda41'), ('Leicester', '5fc4529d9280f04a4cadda42'), ('Swansea', '5fc4529d9280f04a4cadda43'), ('QPR', '5fc4529d9280f04a4cadda44'), ('Burnley', '5fc4529d9280f04a4cadda45'), ('Chelsea', '5fc4529d9280f04a4cadda46'), ('Crystal Palace', '5fc4529d9280f04a4cadda47'), ('Watford', '5fc4529d9280f04a4cadda48'), ('Tottenham', '5fc4529d9280f04a4cadda49'), ('Bournemouth', '5fc4529d9280f04a4cadda4a'), ('Sunderland', '5fc4529d9280f04a4cadda4b'), ('Aston Villa', '5fc4529d9280f04a4cadda4c'), ('Liverpool', '5fc4529d9280f04a4cadda4d'), ('Middlesbrough', '5fc4529d9280f04a4cadda4e'), ('Huddersfield', '5fc4529d9280f04a4cadda4f'), ('Brighton', '5fc4529d9280f04a4cadda50'), ('Wolves', '5fc4529d9280f04a4cadda51')])"
      ]
     },
     "execution_count": 83,
     "metadata": {},
     "output_type": "execute_result"
    }
   ],
   "source": [
    "m_teams = pd.read_csv('./data/mongo/teams.csv')\n",
    "parse_id(m_teams)\n",
    "teams_dict = make_dict(m_teams)\n",
    "teams_dict.items()"
   ]
  },
  {
   "cell_type": "code",
   "execution_count": 84,
   "metadata": {},
   "outputs": [],
   "source": [
    "dataset2 = dataset.copy()"
   ]
  },
  {
   "cell_type": "code",
   "execution_count": 85,
   "metadata": {},
   "outputs": [],
   "source": [
    "dataset2['HomeTeam'] = dataset2['HomeTeam'].apply(lambda team: teams_dict[team])"
   ]
  },
  {
   "cell_type": "code",
   "execution_count": 86,
   "metadata": {},
   "outputs": [],
   "source": [
    "dataset2['AwayTeam'] = dataset2['AwayTeam'].apply(lambda team: teams_dict[team])"
   ]
  },
  {
   "cell_type": "code",
   "execution_count": 87,
   "metadata": {},
   "outputs": [],
   "source": [
    "# Ignoring the referees' initial\n",
    "dataset2['Referee'] = dataset2['Referee'].apply(lambda referee: referees_dict[referee.split()[1]])"
   ]
  },
  {
   "cell_type": "code",
   "execution_count": 88,
   "metadata": {},
   "outputs": [],
   "source": [
    "dataset2.to_csv('./data/games.csv', index=False)"
   ]
  },
  {
   "cell_type": "markdown",
   "metadata": {},
   "source": [
    "## Make the Game Entity (PostgreSQL)"
   ]
  },
  {
   "cell_type": "code",
   "execution_count": 10,
   "metadata": {},
   "outputs": [
    {
     "data": {
      "text/plain": [
       "dict_items([('Taylor', 1), ('Atkinson', 2), ('Oliver', 3), ('Swarbrick', 4), ('Dowd', 5), ('Friend', 6), ('Webb', 7), ('Moss', 8), ('Clattenburg', 9), ('Marriner', 10), ('East', 11), ('Jones', 12), ('Mason', 25), ('Probert', 14), ('Foy', 15), ('Dean', 16), ('Madley', 27), ('Pawson', 18), ('Tierney', 19), ('Stroud', 20), ('Attwell', 21), ('Scott', 22), ('Hooper', 23), ('Kavanagh', 24), ('Coote', 26)])"
      ]
     },
     "execution_count": 10,
     "metadata": {},
     "output_type": "execute_result"
    }
   ],
   "source": [
    "m_referees = pd.read_csv('./data/postgres/referees.csv', names=['id', 'name'])\n",
    "referees_dict = make_postgres_dict(m_referees)\n",
    "referees_dict.items()"
   ]
  },
  {
   "cell_type": "code",
   "execution_count": 11,
   "metadata": {},
   "outputs": [
    {
     "data": {
      "text/plain": [
       "dict_items([('Arsenal', 1), ('Liverpool', 2), ('Norwich', 3), ('Sunderland', 4), ('Swansea', 5), ('West Brom', 6), ('West Ham', 7), ('Chelsea', 8), ('Crystal Palace', 9), ('Man City', 10), ('Aston Villa', 11), ('Everton', 12), ('Fulham', 13), ('Hull', 14), ('Newcastle', 15), ('Southampton', 16), ('Stoke', 17), ('Cardiff', 18), ('Tottenham', 19), ('Man United', 20), ('Leicester', 21), ('QPR', 22), ('Burnley', 23), ('Bournemouth', 24), ('Watford', 25), ('Middlesbrough', 26), ('Brighton', 27), ('Huddersfield', 28), ('Wolves', 29)])"
      ]
     },
     "execution_count": 11,
     "metadata": {},
     "output_type": "execute_result"
    }
   ],
   "source": [
    "m_teams = pd.read_csv('./data/postgres/teams.csv', names=['id', 'name'])\n",
    "teams_dict = make_postgres_dict(m_teams)\n",
    "teams_dict.items()"
   ]
  },
  {
   "cell_type": "code",
   "execution_count": 34,
   "metadata": {},
   "outputs": [],
   "source": [
    "dataset3 = dataset.copy()"
   ]
  },
  {
   "cell_type": "code",
   "execution_count": 36,
   "metadata": {},
   "outputs": [],
   "source": [
    "dataset3['HomeTeam'] = dataset3['HomeTeam'].apply(lambda team: teams_dict[team])"
   ]
  },
  {
   "cell_type": "code",
   "execution_count": 37,
   "metadata": {},
   "outputs": [],
   "source": [
    "dataset3['AwayTeam'] = dataset3['AwayTeam'].apply(lambda team: teams_dict[team])"
   ]
  },
  {
   "cell_type": "code",
   "execution_count": 39,
   "metadata": {},
   "outputs": [],
   "source": [
    "dataset3['Referee'] = dataset3['Referee'].apply(lambda referee: referees_dict[referee.split()[1]])"
   ]
  },
  {
   "cell_type": "code",
   "execution_count": 40,
   "metadata": {},
   "outputs": [],
   "source": [
    "dataset3.to_csv('./data/postgres/games.csv', index=False)"
   ]
  },
  {
   "cell_type": "markdown",
   "metadata": {},
   "source": [
    "### Exporting to CSV"
   ]
  },
  {
   "cell_type": "code",
   "execution_count": null,
   "metadata": {},
   "outputs": [],
   "source": [
    "dataset.to_csv('./data/final_data.csv', index=False)"
   ]
  },
  {
   "cell_type": "code",
   "execution_count": null,
   "metadata": {},
   "outputs": [],
   "source": [
    "df = pd.read_csv('./data/final_data.csv')"
   ]
  },
  {
   "cell_type": "code",
   "execution_count": null,
   "metadata": {},
   "outputs": [],
   "source": [
    "# Ensuring consistency of the exported CSV when imported again\n",
    "perform_final_dataset_assertions(df)"
   ]
  }
 ],
 "metadata": {
  "kernelspec": {
   "display_name": "Python 3",
   "language": "python",
   "name": "python3"
  },
  "language_info": {
   "codemirror_mode": {
    "name": "ipython",
    "version": 3
   },
   "file_extension": ".py",
   "mimetype": "text/x-python",
   "name": "python",
   "nbconvert_exporter": "python",
   "pygments_lexer": "ipython3",
   "version": "3.7.5"
  }
 },
 "nbformat": 4,
 "nbformat_minor": 2
}
